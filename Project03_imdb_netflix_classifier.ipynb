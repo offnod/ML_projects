{
 "cells": [
  {
   "cell_type": "code",
   "execution_count": 59,
   "metadata": {},
   "outputs": [],
   "source": [
    "import pandas as pd\n",
    "import numpy as np\n",
    "import re\n",
    "import lxml\n",
    "\n",
    "from bs4 import BeautifulSoup\n",
    "from requests import get\n",
    "\n",
    "import os\n",
    "%matplotlib inline\n",
    "\n",
    "from sklearn.base import BaseEstimator ,TransformerMixin\n",
    "from sklearn.pipeline import Pipeline\n",
    "from sklearn.preprocessing import StandardScaler\n",
    "from sklearn.compose import ColumnTransformer\n",
    "from sklearn.preprocessing import StandardScaler\n",
    "from sklearn.preprocessing import OneHotEncoder\n",
    "from sklearn.model_selection import StratifiedShuffleSplit\n",
    "from sklearn.decomposition import PCA\n",
    "from sklearn.metrics import precision_score ,recall_score\n",
    "from sklearn.metrics import f1_score\n",
    "import matplotlib.pyplot as plt"
   ]
  },
  {
   "cell_type": "code",
   "execution_count": 60,
   "metadata": {},
   "outputs": [],
   "source": [
    "def Timenow():\n",
    "    from datetime import datetime\n",
    "    now = datetime.now()\n",
    "    current_time = now.strftime(\"%H:%M:%S\")\n",
    "    print(\"Current Time =\", current_time)"
   ]
  },
  {
   "cell_type": "code",
   "execution_count": 61,
   "metadata": {
    "scrolled": true
   },
   "outputs": [],
   "source": [
    "class Basics_genre_expand(BaseEstimator ,TransformerMixin):\n",
    "    def __init__(self ,Bcutoffpercent=0.01 \n",
    "                ,path=\"/Volumes/lin/MachineLearning\"\n",
    "                ,datapath=\"datasets\"):\n",
    "        self.Bcutoffpercent = Bcutoffpercent\n",
    "        self.path = path\n",
    "        self.datapath = datapath\n",
    "    def fit(self ,dfX):\n",
    "        return self\n",
    "    \n",
    "    def transform(self ,dfX):\n",
    "        '''try:\n",
    "            dfY = basics[ratings.index.notnull()]\n",
    "            basics ,basicscols = Basics_genre_expand(dfY)\n",
    "            dfY = Genre_1hot(basics ,basicscols ,'genres')\n",
    "        except:\n",
    "            print('WENT TO EXCEPT 1')\n",
    "            basics ,basicscols = Basics_genre_expand(dfX)\n",
    "            dfY = Genre_1hot(basics ,basicscols ,'genres')'''\n",
    "        basics ,basicscols = self.__Expand(dfX)\n",
    "        dfY = self.__Genre_bool(basics ,basicscols ,'genres')\n",
    "        basicscols2 = ['titleType','startYear','endYear','runtimeMinutes']\n",
    "        return dfX[basicscols2].join(dfY ,how='inner')\n",
    "    \n",
    "    #dtyped basics dataframe\n",
    "    def Basics_dtype(self):\n",
    "        imdb_basics_raw=pd.read_csv(os.path.join(self.path,self.datapath,\"imdb/title.basics.tsv/title.basics.tsv\"), sep='\\t', header=0\n",
    "            ,index_col='tconst'\n",
    "        )\n",
    "\n",
    "        imdb_basics_raw[['runtimeMinutes','startYear','endYear']] \\\n",
    "            = imdb_basics_raw[['runtimeMinutes','startYear','endYear']].apply(lambda x: \\\n",
    "                np.where((x=='\\\\N') | ~x.astype('str').str.isalnum() ,'0' ,x) \\\n",
    "                ,axis=0)\n",
    "        col_basics={'titleType':'category','primaryTitle':'object','originalTitle':'object' \\\n",
    "             ,'isAdult':'bool','startYear':'int64','endYear':'int64' \\\n",
    "             ,'runtimeMinutes':'int64','genres':'object'}\n",
    "        imdb_basics_dtyped = imdb_basics_raw.astype(col_basics)\n",
    "        imdb_basics_cols = ['titleType','primaryTitle' \\\n",
    "                            ,'startYear','endYear','runtimeMinutes','genres']\n",
    "        imdb_basics_dtyped = imdb_basics_dtyped[imdb_basics_cols]\n",
    "        imdb_basics_dtyped = imdb_basics_dtyped.loc[ \\\n",
    "            imdb_basics_dtyped['titleType']!='tvEpisode']\n",
    "\n",
    "        return imdb_basics_dtyped\n",
    "\n",
    "    def __Expand(self ,dfX):\n",
    "        df07 = pd.DataFrame(dfX['genres'].str.split(',',expand=True)) \\\n",
    "            .rename(columns=lambda x: x+1).add_prefix('genre')\n",
    "\n",
    "        df08 = df07.stack().reset_index()[0]\n",
    "        df0freq = df08.value_counts()\n",
    "        cutoff = int(sum(df0freq)*self.Bcutoffpercent)\n",
    "        df0infreq = df0freq[df0freq<cutoff].index\n",
    "        df08.replace(df0infreq ,'Other' ,inplace=True)\n",
    "        #df010 = df08.replace(df0infreq+['\\\\N'] ,'Other')\n",
    "        df011 = list(df08.unique())\n",
    "        df0col = pd.DataFrame(columns=df011).astype('bool')\n",
    "\n",
    "        dfX['genres'].replace(df0infreq ,'Other' ,inplace=True)\n",
    "        df01concat = [dfX ,df0col]\n",
    "        df01uniq = pd.concat(df01concat ,axis=1)\n",
    "\n",
    "        return df01uniq ,df011\n",
    "    \n",
    "    #fills in expanded columns\n",
    "    def __Genre_bool(self ,dfX ,dfXcol ,col):\n",
    "        df1 = dfX.apply(lambda x: self.__Match_genre(dfX ,x ,dfXcol ,col)\n",
    "                           if x.name in dfXcol else x\n",
    "                           ,axis='index'\n",
    "        #                  ,result_type='reduce')\n",
    "                                 )\n",
    "        #    col_dtypes = {'region':'list','language':'list'}\n",
    "        #    df01hot = df01hot.astype(col_dtypes)\n",
    "        return df1[dfXcol]\n",
    "    \n",
    "    #exclusively called by Genre_bool\n",
    "    def __Match_genre(self ,dfX ,x ,Xcol ,col): #axis=index\n",
    "        colname = x.name\n",
    "        i = list(dfX.index)\n",
    "        colval = dfX[col].loc[i]\n",
    "        return colval.apply(lambda f: colname in f)\n",
    "\n",
    "\n",
    "#used to filter dataset based on netflix statistics in order to reduce imdb dataset \n",
    "#to only higher # of votes where netflix data is applicable. \n",
    "#goal to target only most popular titles\n",
    "class Netflix(Basics_genre_expand):\n",
    "    def __init__(self):\n",
    "        Basics_genre_expand.__init__(self)\n",
    "    \n",
    "    #exclusively called by Netflix_uniq0() ,Netflix_uniq1()\n",
    "    def Netflix_titles(self):\n",
    "        netflix = pd.read_csv(os.path.join(self.path,self.datapath,\"netflix_titles.csv\"))\n",
    "        netflix_uniqueTitles = pd.DataFrame(netflix.title.unique() ,columns=['title'])\n",
    "        netflix_uniqueTitles.set_index(keys=['title'] ,inplace=True)\n",
    "        return netflix_uniqueTitles\n",
    "    \n",
    "    #returns only index column\n",
    "    def Netflix_uniq0(self ,dfX ,colX):\n",
    "        netflix_uniqueTitles = self.Netflix_titles()\n",
    "\n",
    "        indX = dfX.index.name\n",
    "        dfX.reset_index(inplace=True)\n",
    "        dfX.set_index(keys=colX ,inplace=True)\n",
    "        dfX_titles = dfX.join(netflix_uniqueTitles ,how='inner')\n",
    "        #dfX_titles.reset_index(inplace=True)\n",
    "        dfX_uniq = dfX_titles[indX].unique()\n",
    "        dfX_uniq2 = pd.DataFrame(dfX_uniq ,columns=[indX]) \n",
    "        dfX_uniq2.set_index(keys=indX ,inplace=True ,drop=True)\n",
    "\n",
    "        return dfX_uniq2\n",
    "\n",
    "    #exclusively called by NetflixStats()\n",
    "    #returns dfX but filtered by netflix\n",
    "    def Netflix_uniq1(self ,dfX):\n",
    "        indX = dfX.index.name\n",
    "\n",
    "        '''try:\n",
    "            imdb_basics = basics.reindex(ratings.index)\n",
    "        except:\n",
    "            print('WENT TO EXCEPT 2')\n",
    "            imdb_basics = basics_dtype'''\n",
    "        \n",
    "        imdb_basics = self.Basics_dtype()\n",
    "        basics_netflix_uniq = self.Netflix_uniq0(imdb_basics ,'primaryTitle') \n",
    "        \n",
    "        #return dfX.reindex(basics_netflix_uniq.index ,copy=False)\n",
    "        return dfX.join(basics_netflix_uniq ,how='inner')\n",
    "\n",
    "\n",
    "class Ratings_expand(Netflix ,Basics_genre_expand):\n",
    "    def __init__(self ,imdb_ratings_filtered=pd.DataFrame([])):\n",
    "        self.imdb_ratings_filtered=imdb_ratings_filtered\n",
    "        Basics_genre_expand.__init__(self)\n",
    "        \n",
    "    def fit(self ,dfX):\n",
    "        return self\n",
    "    \n",
    "    def transform(self ,dfX):\n",
    "        return self.__Ratings_expand(self.Ratings_netflix_filter(dfX))\n",
    "\n",
    "    #dtyped ratings dataframe\n",
    "    def Ratings_dtype(self):\n",
    "        ratings = pd.read_csv(os.path.join(self.path,self.datapath,\"imdb/title.ratings.tsv/title.ratings.tsv\"), sep='\\t', header=0\n",
    "            ,index_col=['tconst']\n",
    "            ,dtype={'averageRating':'float64','numVotes':'float64'}\n",
    "         )\n",
    "        return ratings\n",
    "    \n",
    "    def Ratings_netflix_filter(self ,dfX): \n",
    "        '''if self.ratings.shape==(0,0):'''\n",
    "        ratings_netflix_uniq = self.Netflix_uniq1(dfX)\n",
    "        netflix_stats = pd.concat([ratings_netflix_uniq.mean()] \n",
    "                                  + [ratings_netflix_uniq.std()])\n",
    "\n",
    "        self.imdb_ratings_filtered = dfX.loc[dfX.numVotes \n",
    "                                        > netflix_stats[1] - 0.0*netflix_stats[3]]\n",
    "\n",
    "        return self.imdb_ratings_filtered\n",
    "        '''else:\n",
    "            dfX_filtered = dfX.loc[self.ratings.index]\n",
    "\n",
    "            return dfX_filtered'''\n",
    "\n",
    "    #feature expansion\n",
    "    def __Ratings_expand(self ,dfX):\n",
    "        rate_stats = pd.concat([dfX.mean()] + [dfX.std()])\n",
    "\n",
    "        dfX.loc[:,'ratecat'] \\\n",
    "            = dfX[['averageRating']].apply(lambda x: \\\n",
    "                sum([(x>rate_stats[0] - 2.0*rate_stats[2]) \\\n",
    "                    ,(x>rate_stats[0] - rate_stats[2]) \\\n",
    "                    ,(x>rate_stats[0]) \\\n",
    "                    ,(x>rate_stats[0] + rate_stats[2]) \\\n",
    "                    ,(x>rate_stats[0] + 2.0*rate_stats[2])] \\\n",
    "                ) \\\n",
    "             ).astype('float64')\n",
    "        dfX.loc[:,'votecat'] \\\n",
    "            = dfX[['numVotes']].apply(lambda x: \\\n",
    "                sum([(x>rate_stats[1] - 2.0*rate_stats[3]) \\\n",
    "                    ,(x>rate_stats[1] - rate_stats[3]) \\\n",
    "                    ,(x>rate_stats[1]) \\\n",
    "                    ,(x>rate_stats[1] + rate_stats[3]) \\\n",
    "                    ,(x>rate_stats[1] + 2.0*rate_stats[3])] \\\n",
    "                ) \\\n",
    "             ).astype('float64')\n",
    "        dfX.loc[:,'score'] \\\n",
    "            = dfX['ratecat'] + dfX['votecat']\n",
    "\n",
    "        rate_dtype = {'numVotes':'int64','ratecat':'int64' ,'votecat':'int64' \n",
    "                      ,'score':'int64'}\n",
    "        \n",
    "        return dfX.astype(rate_dtype)\n",
    "    \n",
    "\n",
    "class Regions_expand(Ratings_expand):\n",
    "    def __init__(self ,Rcutoffpercent=.01):\n",
    "        self.Rcutoffpercent = Rcutoffpercent\n",
    "        Basics_genre_expand.__init__(self)\n",
    "    \n",
    "    def fit(self ,dfX):\n",
    "        return self\n",
    "    \n",
    "    def transform(self ,dfX ,dfY):\n",
    "        regions ,regionsscols = self.__Regions_expand(dfX ,dfY)\n",
    "        dfY = self.__Region_bool(regions ,regionsscols ,'region')\n",
    "    \n",
    "        return dfY[regionsscols]\n",
    "        #return dfX.join(dfY ,how='inner')\n",
    "      \n",
    "    #dtyped region dataframe\n",
    "    def Akas_dtype(self):\n",
    "        imdb_akas=pd.read_csv(os.path.join(self.path,self.datapath,\"imdb/title.akas.tsv/title.akas.tsv\") , sep='\\t', header=0 \n",
    "            ,index_col='titleId'\n",
    "            ,dtype={'ordering':'int64','title':'object','region':'str'\n",
    "                   ,'language':'str','types':'category','attirbutes':'object','isOrignalTitle':'bool'}\n",
    "        )\n",
    "        imdb_akas_cols = ['region']\n",
    "        return imdb_akas[imdb_akas_cols]\n",
    "\n",
    "    #feature expansion\n",
    "    def __Region_count(self ,dfX):\n",
    "        df01 = dfX.groupby(dfX.index)\n",
    "        df02 = pd.DataFrame(df01.agg(list))\n",
    "        df02['regioncount'] = df02['region'].apply(len)\n",
    "\n",
    "        return df02\n",
    "        #245 values imdb_akas_movies.region.value_counts()\n",
    "        #102 values imdb_akas_movies.language.value_counts() can ignore this\n",
    "            #, since region has more values\n",
    "            \n",
    "    #feature expansion\n",
    "    def __Regions_expand(self ,dfX ,dfY):\n",
    "        #cols_1hot\n",
    "\n",
    "        akas_filtered = dfX.join(dfY.drop( \\\n",
    "            columns=dfY.columns ,inplace=False) ,how='inner')\n",
    "        region_counts = self.Region_count(akas_filtered)\n",
    "        cols = []\n",
    "        num = '{x:n}'\n",
    "        for x in range(0 ,region_counts.region.str.len().max()):\n",
    "            cols.append('region'+ num.format(x=x))\n",
    "\n",
    "        df07 = pd.DataFrame(region_counts.region.tolist() ,columns=cols  \n",
    "                            ,index=[region_counts.index])\n",
    "        df08 = df07.stack().reset_index()[0]\n",
    "        #df09 = df08.loc[df08!='\\\\N']\n",
    "        df09 = df08\n",
    "        df0freq = df09.value_counts()\n",
    "        #print(df0freq ,'\\n' ,type(df0freq))\n",
    "        cutoff = int(sum(df0freq)*self.Rcutoffpercent)\n",
    "        df0infreq = df0freq[df0freq<cutoff].index\n",
    "        df09.replace(df0infreq ,'Other' ,inplace=True) \n",
    "        df011 = list(df09.unique())\n",
    "        df0col = pd.DataFrame(columns=df011).astype('bool')\n",
    "\n",
    "        region_counts['region'].replace(df0infreq ,'Other' ,inplace=True)\n",
    "        df01concat = [region_counts ,df0col]\n",
    "\n",
    "        df01uniq = pd.concat(df01concat ,axis=1)\n",
    "\n",
    "        return df01uniq ,df011\n",
    "    \n",
    "    #fills in expand regions\n",
    "    def _Region_bool(self ,dfX ,dfXcol ,col):\n",
    "        return dfX.apply(lambda x: self.Match_region(dfX ,x ,dfXcol ,col)\n",
    "                           if x.name in dfXcol else x\n",
    "                           ,axis='index')\n",
    "    \n",
    "    #exclusivley called by Region_1hot\n",
    "    def _Match_region(self ,dfX ,x ,Xcol ,col): #axis=index\n",
    "        colname = x.name\n",
    "        i = list(dfX.index)\n",
    "        colval = dfX[col].loc[i]\n",
    "        return colval.apply(lambda f: colname in f)\n",
    "    \n",
    "    \n",
    "def Combine(cutoffpercent=0.1):\n",
    "    basics_expand = Basics_genre_expand()\n",
    "    ratings_expand = Ratings_expand()\n",
    "    regions_expand = Regions_expand()\n",
    "    \n",
    "    basics_dtype = basics_expand.Basics_dtype()\n",
    "    basics_cols = ['titleType' ,'startYear','endYear','runtimeMinutes','genres']\n",
    "    \n",
    "    ratings_dtype = ratings_expand.Ratings_dtype()\n",
    "    ratings_cols = ['averageRating','numVotes']\n",
    "    \n",
    "    akas_dtyped = regions_expand.Akas_dtype()\n",
    "    akas_columns = ['region']\n",
    "    \n",
    "    Timenow()\n",
    "    basics = basics_expand.transform(basics_dtype[basics_cols])\n",
    "    ratings = ratings_expand.transform(ratings_dtype[ratings_cols])\n",
    "    regions = regions_expand.transform(akas_dtyped[akas_columns] ,ratings_dtype)\n",
    "    \n",
    "    df0freq = basics['titleType'].value_counts()\n",
    "    cutoff = int(sum(df0freq)*cutoffpercent)\n",
    "    df0infreq = df0freq[df0freq<cutoff].index\n",
    "    basics['titleType'].replace(df0infreq ,'Other' ,inplace=True)\n",
    "    basics[['titleType']] = basics[['titleType']].astype({'titleType':'category'})\n",
    "    D = basics.join(ratings ,how='inner' ,rsuffix='_rating')\n",
    "    Timenow()\n",
    "    \n",
    "    return D.join(regions ,how='inner' ,rsuffix='_region')"
   ]
  },
  {
   "cell_type": "code",
   "execution_count": 62,
   "metadata": {
    "scrolled": true
   },
   "outputs": [
    {
     "name": "stdout",
     "output_type": "stream",
     "text": [
      "Current Time = 16:21:20\n"
     ]
    },
    {
     "name": "stderr",
     "output_type": "stream",
     "text": [
      "/Volumes/lin/MachineLearning/env/lib/python3.7/site-packages/IPython/core/interactiveshell.py:3326: DtypeWarning: Columns (5) have mixed types. Specify dtype option on import or set low_memory=False.\n",
      "  exec(code_obj, self.user_global_ns, self.user_ns)\n",
      "/Volumes/lin/MachineLearning/env/lib/python3.7/site-packages/IPython/core/interactiveshell.py:3326: DtypeWarning: Columns (7) have mixed types. Specify dtype option on import or set low_memory=False.\n",
      "  exec(code_obj, self.user_global_ns, self.user_ns)\n"
     ]
    },
    {
     "name": "stdout",
     "output_type": "stream",
     "text": [
      "Current Time = 16:22:39\n"
     ]
    },
    {
     "ename": "AttributeError",
     "evalue": "'Basics_genre_expand' object has no attribute 'Expand'",
     "output_type": "error",
     "traceback": [
      "\u001b[0;31m---------------------------------------------------------------------------\u001b[0m",
      "\u001b[0;31mAttributeError\u001b[0m                            Traceback (most recent call last)",
      "\u001b[0;32m<ipython-input-62-6daf768e9f42>\u001b[0m in \u001b[0;36m<module>\u001b[0;34m\u001b[0m\n\u001b[1;32m      1\u001b[0m \u001b[0mTimenow\u001b[0m\u001b[0;34m(\u001b[0m\u001b[0;34m)\u001b[0m\u001b[0;34m\u001b[0m\u001b[0;34m\u001b[0m\u001b[0m\n\u001b[0;32m----> 2\u001b[0;31m \u001b[0mcombined\u001b[0m \u001b[0;34m=\u001b[0m \u001b[0mCombine\u001b[0m\u001b[0;34m(\u001b[0m\u001b[0;34m)\u001b[0m\u001b[0;34m\u001b[0m\u001b[0;34m\u001b[0m\u001b[0m\n\u001b[0m\u001b[1;32m      3\u001b[0m \u001b[0mTimenow\u001b[0m\u001b[0;34m(\u001b[0m\u001b[0;34m)\u001b[0m\u001b[0;34m\u001b[0m\u001b[0;34m\u001b[0m\u001b[0m\n\u001b[1;32m      4\u001b[0m \u001b[0mcombined\u001b[0m\u001b[0;34m\u001b[0m\u001b[0;34m\u001b[0m\u001b[0m\n",
      "\u001b[0;32m<ipython-input-61-f0d6654b42af>\u001b[0m in \u001b[0;36mCombine\u001b[0;34m(cutoffpercent)\u001b[0m\n\u001b[1;32m    292\u001b[0m \u001b[0;34m\u001b[0m\u001b[0m\n\u001b[1;32m    293\u001b[0m     \u001b[0mTimenow\u001b[0m\u001b[0;34m(\u001b[0m\u001b[0;34m)\u001b[0m\u001b[0;34m\u001b[0m\u001b[0;34m\u001b[0m\u001b[0m\n\u001b[0;32m--> 294\u001b[0;31m     \u001b[0mbasics\u001b[0m \u001b[0;34m=\u001b[0m \u001b[0mbasics_expand\u001b[0m\u001b[0;34m.\u001b[0m\u001b[0mtransform\u001b[0m\u001b[0;34m(\u001b[0m\u001b[0mbasics_dtype\u001b[0m\u001b[0;34m[\u001b[0m\u001b[0mbasics_cols\u001b[0m\u001b[0;34m]\u001b[0m\u001b[0;34m)\u001b[0m\u001b[0;34m\u001b[0m\u001b[0;34m\u001b[0m\u001b[0m\n\u001b[0m\u001b[1;32m    295\u001b[0m     \u001b[0mratings\u001b[0m \u001b[0;34m=\u001b[0m \u001b[0mratings_expand\u001b[0m\u001b[0;34m.\u001b[0m\u001b[0mtransform\u001b[0m\u001b[0;34m(\u001b[0m\u001b[0mratings_dtype\u001b[0m\u001b[0;34m[\u001b[0m\u001b[0mratings_cols\u001b[0m\u001b[0;34m]\u001b[0m\u001b[0;34m)\u001b[0m\u001b[0;34m\u001b[0m\u001b[0;34m\u001b[0m\u001b[0m\n\u001b[1;32m    296\u001b[0m     \u001b[0mregions\u001b[0m \u001b[0;34m=\u001b[0m \u001b[0mregions_expand\u001b[0m\u001b[0;34m.\u001b[0m\u001b[0mtransform\u001b[0m\u001b[0;34m(\u001b[0m\u001b[0makas_dtyped\u001b[0m\u001b[0;34m[\u001b[0m\u001b[0makas_columns\u001b[0m\u001b[0;34m]\u001b[0m \u001b[0;34m,\u001b[0m\u001b[0mratings_dtype\u001b[0m\u001b[0;34m)\u001b[0m\u001b[0;34m\u001b[0m\u001b[0;34m\u001b[0m\u001b[0m\n",
      "\u001b[0;32m<ipython-input-61-f0d6654b42af>\u001b[0m in \u001b[0;36mtransform\u001b[0;34m(self, dfX)\u001b[0m\n\u001b[1;32m     18\u001b[0m             \u001b[0mbasics\u001b[0m \u001b[0;34m,\u001b[0m\u001b[0mbasicscols\u001b[0m \u001b[0;34m=\u001b[0m \u001b[0mBasics_genre_expand\u001b[0m\u001b[0;34m(\u001b[0m\u001b[0mdfX\u001b[0m\u001b[0;34m)\u001b[0m\u001b[0;34m\u001b[0m\u001b[0;34m\u001b[0m\u001b[0m\n\u001b[1;32m     19\u001b[0m             dfY = Genre_1hot(basics ,basicscols ,'genres')'''\n\u001b[0;32m---> 20\u001b[0;31m         \u001b[0mbasics\u001b[0m \u001b[0;34m,\u001b[0m\u001b[0mbasicscols\u001b[0m \u001b[0;34m=\u001b[0m \u001b[0mself\u001b[0m\u001b[0;34m.\u001b[0m\u001b[0mExpand\u001b[0m\u001b[0;34m(\u001b[0m\u001b[0mdfX\u001b[0m\u001b[0;34m)\u001b[0m\u001b[0;34m\u001b[0m\u001b[0;34m\u001b[0m\u001b[0m\n\u001b[0m\u001b[1;32m     21\u001b[0m         \u001b[0mdfY\u001b[0m \u001b[0;34m=\u001b[0m \u001b[0mself\u001b[0m\u001b[0;34m.\u001b[0m\u001b[0mGenre_bool\u001b[0m\u001b[0;34m(\u001b[0m\u001b[0mbasics\u001b[0m \u001b[0;34m,\u001b[0m\u001b[0mbasicscols\u001b[0m \u001b[0;34m,\u001b[0m\u001b[0;34m'genres'\u001b[0m\u001b[0;34m)\u001b[0m\u001b[0;34m\u001b[0m\u001b[0;34m\u001b[0m\u001b[0m\n\u001b[1;32m     22\u001b[0m         \u001b[0mbasicscols2\u001b[0m \u001b[0;34m=\u001b[0m \u001b[0;34m[\u001b[0m\u001b[0;34m'titleType'\u001b[0m\u001b[0;34m,\u001b[0m\u001b[0;34m'startYear'\u001b[0m\u001b[0;34m,\u001b[0m\u001b[0;34m'endYear'\u001b[0m\u001b[0;34m,\u001b[0m\u001b[0;34m'runtimeMinutes'\u001b[0m\u001b[0;34m]\u001b[0m\u001b[0;34m\u001b[0m\u001b[0;34m\u001b[0m\u001b[0m\n",
      "\u001b[0;31mAttributeError\u001b[0m: 'Basics_genre_expand' object has no attribute 'Expand'"
     ]
    }
   ],
   "source": [
    "Timenow()\n",
    "combined = Combine()\n",
    "Timenow()\n",
    "combined"
   ]
  },
  {
   "cell_type": "code",
   "execution_count": null,
   "metadata": {},
   "outputs": [],
   "source": [
    "def split_train_test_validation(data ,test_ratio ,validation_ratio):\n",
    "    shuffled_ind = np.random.permutation(len(data))\n",
    "    \n",
    "    validation_size = int(len(data)*validation_ratio)\n",
    "    validation_ind = shuffled_ind[:validation_size]\n",
    "    \n",
    "    test_size = int(len(data)*test_ratio)\n",
    "    test_ind = shuffled_ind[validation_size:test_size]\n",
    "    train_ind = shuffled_ind[validation_size+test_size:]\n",
    "    \n",
    "    return data.iloc[validation_ind] ,data.iloc[test_ind] ,data.iloc[train_ind]\n",
    "\n",
    "validation_set ,test_set ,train_set = split_train_test_validation(combined ,0.2 ,0.1)\n",
    "\n",
    "def Classifier():\n",
    "    netflix_ind = Netflix().Netflix_uniq1(train_set)\n",
    "    classifier = train_set.join(netflix_ind ,how='left' ,rsuffix='_netflix')\n",
    "    \n",
    "    return (classifier['titleType']==classifier['titleType_netflix'])"
   ]
  },
  {
   "cell_type": "code",
   "execution_count": null,
   "metadata": {},
   "outputs": [],
   "source": [
    "train_set.shape"
   ]
  },
  {
   "cell_type": "code",
   "execution_count": null,
   "metadata": {
    "scrolled": true
   },
   "outputs": [],
   "source": [
    "y_netflix = Classifier()"
   ]
  },
  {
   "cell_type": "code",
   "execution_count": null,
   "metadata": {},
   "outputs": [],
   "source": [
    "y_netflix.shape"
   ]
  },
  {
   "cell_type": "code",
   "execution_count": null,
   "metadata": {
    "scrolled": true
   },
   "outputs": [],
   "source": [
    "with pd.option_context('display.max_rows', None, 'display.max_columns', None):  # more options can be specified also\n",
    "    print (combined.dtypes)"
   ]
  },
  {
   "cell_type": "code",
   "execution_count": null,
   "metadata": {
    "scrolled": true
   },
   "outputs": [],
   "source": [
    "#nums = ['startYear','endYear','runtimeMinutes','numVotes','ratecat','votecat','score']\n",
    "#cats = list(train_set.drop(labels=nums ,axis='columns').columns)\n",
    "nums = ['startYear','numVotes','ratecat','votecat','score']\n",
    "cats = ['titleType']\n",
    "allcols = nums+cats\n",
    "\n",
    "  \n",
    "full_pipeline = ColumnTransformer([\n",
    "    ('stdscaler' ,StandardScaler() ,nums)\n",
    "    ,('pca' ,PCA(n_components=0.95) ,nums)\n",
    "    ,('cat' ,OneHotEncoder() ,cats)\n",
    "])\n",
    "\n",
    "x_data = full_pipeline.fit_transform(train_set)"
   ]
  },
  {
   "cell_type": "code",
   "execution_count": null,
   "metadata": {},
   "outputs": [],
   "source": [
    "x_data.shape"
   ]
  },
  {
   "cell_type": "code",
   "execution_count": null,
   "metadata": {},
   "outputs": [],
   "source": [
    "from sklearn.enseble import GradientBooxstingRegressor"
   ]
  },
  {
   "cell_type": "code",
   "execution_count": null,
   "metadata": {},
   "outputs": [],
   "source": [
    "gbrt = GradientBoostingRegressor(max_depth=5 ,warm_start=True)\n",
    "\n",
    "min_val_error = float('inf')\n",
    "error_going_up = 0\n",
    "for n_estimators in range(1 ,120):\n",
    "    gbrt.n_estimators = n_estimators\n",
    "    gbrt.fit(x_data ,y_netflix)"
   ]
  },
  {
   "cell_type": "code",
   "execution_count": null,
   "metadata": {},
   "outputs": [],
   "source": []
  },
  {
   "cell_type": "code",
   "execution_count": null,
   "metadata": {},
   "outputs": [],
   "source": []
  },
  {
   "cell_type": "code",
   "execution_count": null,
   "metadata": {},
   "outputs": [],
   "source": []
  },
  {
   "cell_type": "code",
   "execution_count": null,
   "metadata": {},
   "outputs": [],
   "source": []
  },
  {
   "cell_type": "code",
   "execution_count": null,
   "metadata": {},
   "outputs": [],
   "source": []
  },
  {
   "cell_type": "code",
   "execution_count": null,
   "metadata": {},
   "outputs": [],
   "source": []
  },
  {
   "cell_type": "code",
   "execution_count": null,
   "metadata": {},
   "outputs": [],
   "source": []
  },
  {
   "cell_type": "code",
   "execution_count": null,
   "metadata": {},
   "outputs": [],
   "source": []
  },
  {
   "cell_type": "code",
   "execution_count": null,
   "metadata": {},
   "outputs": [],
   "source": []
  },
  {
   "cell_type": "code",
   "execution_count": null,
   "metadata": {},
   "outputs": [],
   "source": []
  },
  {
   "cell_type": "code",
   "execution_count": null,
   "metadata": {},
   "outputs": [],
   "source": []
  },
  {
   "cell_type": "code",
   "execution_count": null,
   "metadata": {},
   "outputs": [],
   "source": []
  },
  {
   "cell_type": "code",
   "execution_count": null,
   "metadata": {},
   "outputs": [],
   "source": []
  },
  {
   "cell_type": "code",
   "execution_count": 22,
   "metadata": {},
   "outputs": [],
   "source": [
    "from sklearn.linear_model import SGDClassifier\n",
    "from sklearn.model_selection import cross_val_score\n",
    "from sklearn.model_selection import cross_val_predict\n",
    "from sklearn.metrics import confusion_matrix"
   ]
  },
  {
   "cell_type": "code",
   "execution_count": 23,
   "metadata": {
    "scrolled": true
   },
   "outputs": [
    {
     "data": {
      "text/plain": [
       "SGDClassifier(alpha=0.0001, average=False, class_weight=None,\n",
       "              early_stopping=False, epsilon=0.1, eta0=0.0, fit_intercept=True,\n",
       "              l1_ratio=0.15, learning_rate='optimal', loss='hinge',\n",
       "              max_iter=1000, n_iter_no_change=5, n_jobs=None, penalty='l2',\n",
       "              power_t=0.5, random_state=None, shuffle=True, tol=0.001,\n",
       "              validation_fraction=0.1, verbose=0, warm_start=False)"
      ]
     },
     "execution_count": 23,
     "metadata": {},
     "output_type": "execute_result"
    }
   ],
   "source": [
    "sgd_clf = SGDClassifier()\n",
    "sgd_clf.fit(x_data ,y_netflix)"
   ]
  },
  {
   "cell_type": "code",
   "execution_count": 24,
   "metadata": {},
   "outputs": [],
   "source": [
    "y_netflix_predict = cross_val_predict(sgd_clf ,x_data ,y_netflix ,cv=3)"
   ]
  },
  {
   "cell_type": "code",
   "execution_count": 25,
   "metadata": {
    "scrolled": true
   },
   "outputs": [
    {
     "data": {
      "text/plain": [
       "array([[1861, 2635],\n",
       "       [ 357,  432]])"
      ]
     },
     "execution_count": 25,
     "metadata": {},
     "output_type": "execute_result"
    }
   ],
   "source": [
    "confusion_matrix(y_netflix ,y_netflix_predict)"
   ]
  },
  {
   "cell_type": "code",
   "execution_count": 26,
   "metadata": {},
   "outputs": [
    {
     "data": {
      "text/plain": [
       "0.14085425497228563"
      ]
     },
     "execution_count": 26,
     "metadata": {},
     "output_type": "execute_result"
    }
   ],
   "source": [
    "precision_score(y_netflix ,y_netflix_predict)"
   ]
  },
  {
   "cell_type": "code",
   "execution_count": 27,
   "metadata": {},
   "outputs": [
    {
     "data": {
      "text/plain": [
       "0.5475285171102662"
      ]
     },
     "execution_count": 27,
     "metadata": {},
     "output_type": "execute_result"
    }
   ],
   "source": [
    "recall_score(y_netflix ,y_netflix_predict)"
   ]
  },
  {
   "cell_type": "code",
   "execution_count": 28,
   "metadata": {},
   "outputs": [
    {
     "data": {
      "text/plain": [
       "0.22406639004149376"
      ]
     },
     "execution_count": 28,
     "metadata": {},
     "output_type": "execute_result"
    }
   ],
   "source": [
    "f1_score(y_netflix ,y_netflix_predict)"
   ]
  },
  {
   "cell_type": "code",
   "execution_count": 29,
   "metadata": {},
   "outputs": [],
   "source": [
    "y_scores = cross_val_predict(sgd_clf ,x_data ,y_netflix ,cv=3 ,method='decision_function')"
   ]
  },
  {
   "cell_type": "code",
   "execution_count": 30,
   "metadata": {},
   "outputs": [],
   "source": [
    "from sklearn.metrics import precision_recall_curve"
   ]
  },
  {
   "cell_type": "code",
   "execution_count": 31,
   "metadata": {},
   "outputs": [],
   "source": [
    "precisions ,recalls ,thresholds = precision_recall_curve(y_netflix ,y_scores)"
   ]
  },
  {
   "cell_type": "code",
   "execution_count": 32,
   "metadata": {},
   "outputs": [
    {
     "data": {
      "text/plain": [
       "array([0.14951677, 0.14935557, 0.14938389, ..., 0.5       , 0.        ,\n",
       "       1.        ])"
      ]
     },
     "execution_count": 32,
     "metadata": {},
     "output_type": "execute_result"
    }
   ],
   "source": [
    "precisions"
   ]
  },
  {
   "cell_type": "code",
   "execution_count": 33,
   "metadata": {},
   "outputs": [],
   "source": [
    "def plot_precision_recall_v_threshold(precisions ,recalls ,thresholds):\n",
    "    plt.plot(thresholds ,precisions[:-1] ,'b--' ,label=\"Precision\")\n",
    "    plt.plot(thresholds ,recalls[:-1] ,'g-' ,label='Recall')\n",
    "    plt.xlabel('threshold')\n",
    "    plt.legend(loc='center left')\n",
    "    plt.ylim([0,1])"
   ]
  },
  {
   "cell_type": "code",
   "execution_count": 34,
   "metadata": {},
   "outputs": [
    {
     "data": {
      "image/png": "[encoded data removed]",
      "text/plain": [
       "<Figure size 432x288 with 1 Axes>"
      ]
     },
     "metadata": {
      "needs_background": "light"
     },
     "output_type": "display_data"
    }
   ],
   "source": [
    "plot_precision_recall_v_threshold(precisions ,recalls ,thresholds)\n",
    "plt.show()"
   ]
  },
  {
   "cell_type": "code",
   "execution_count": 35,
   "metadata": {},
   "outputs": [],
   "source": [
    "from sklearn.metrics import roc_curve"
   ]
  },
  {
   "cell_type": "code",
   "execution_count": 36,
   "metadata": {},
   "outputs": [],
   "source": [
    "def plot_roc_curve(fpr ,tpr ,label=None):\n",
    "    plt.plot(fpr ,tpr ,linewidth=2 ,label=label)\n",
    "    plt.plot([0,1] ,[0,1] ,'k--')\n",
    "    plt.axis([0 ,1 ,0 ,1])\n",
    "    plt.xlabel('False Positive Rate')\n",
    "    plt.ylabel('True Positive Rate')"
   ]
  },
  {
   "cell_type": "code",
   "execution_count": 37,
   "metadata": {},
   "outputs": [],
   "source": [
    "fpr ,tpr ,thresholds = roc_curve(y_netflix ,y_scores)"
   ]
  },
  {
   "cell_type": "code",
   "execution_count": 38,
   "metadata": {},
   "outputs": [
    {
     "data": {
      "image/png": "[encoded data removed]",
      "text/plain": [
       "<Figure size 432x288 with 1 Axes>"
      ]
     },
     "metadata": {
      "needs_background": "light"
     },
     "output_type": "display_data"
    }
   ],
   "source": [
    "plot_roc_curve(fpr ,tpr)\n",
    "plt.show()"
   ]
  },
  {
   "cell_type": "code",
   "execution_count": null,
   "metadata": {},
   "outputs": [],
   "source": []
  },
  {
   "cell_type": "code",
   "execution_count": null,
   "metadata": {},
   "outputs": [],
   "source": []
  },
  {
   "cell_type": "code",
   "execution_count": null,
   "metadata": {},
   "outputs": [],
   "source": []
  },
  {
   "cell_type": "code",
   "execution_count": null,
   "metadata": {},
   "outputs": [],
   "source": []
  },
  {
   "cell_type": "code",
   "execution_count": null,
   "metadata": {},
   "outputs": [],
   "source": []
  },
  {
   "cell_type": "code",
   "execution_count": 39,
   "metadata": {},
   "outputs": [],
   "source": [
    "from sklearn.ensemble import RandomForestClassifier"
   ]
  },
  {
   "cell_type": "code",
   "execution_count": 40,
   "metadata": {},
   "outputs": [
    {
     "name": "stderr",
     "output_type": "stream",
     "text": [
      "/Volumes/lin/MachineLearning/env/lib/python3.7/site-packages/sklearn/ensemble/forest.py:245: FutureWarning: The default value of n_estimators will change from 10 in version 0.20 to 100 in 0.22.\n",
      "  \"10 in version 0.20 to 100 in 0.22.\", FutureWarning)\n",
      "/Volumes/lin/MachineLearning/env/lib/python3.7/site-packages/sklearn/ensemble/forest.py:245: FutureWarning: The default value of n_estimators will change from 10 in version 0.20 to 100 in 0.22.\n",
      "  \"10 in version 0.20 to 100 in 0.22.\", FutureWarning)\n",
      "/Volumes/lin/MachineLearning/env/lib/python3.7/site-packages/sklearn/ensemble/forest.py:245: FutureWarning: The default value of n_estimators will change from 10 in version 0.20 to 100 in 0.22.\n",
      "  \"10 in version 0.20 to 100 in 0.22.\", FutureWarning)\n"
     ]
    }
   ],
   "source": [
    "forest_clf = RandomForestClassifier(random_state=42)\n",
    "y_probas_forest = cross_val_predict(forest_clf ,x_data ,y_netflix\n",
    "                                    ,cv=3 ,method='predict_proba')"
   ]
  },
  {
   "cell_type": "code",
   "execution_count": 235,
   "metadata": {
    "collapsed": true
   },
   "outputs": [
    {
     "name": "stderr",
     "output_type": "stream",
     "text": [
      "/Volumes/lin/MachineLearning/env/lib/python3.7/site-packages/sklearn/ensemble/forest.py:245: FutureWarning: The default value of n_estimators will change from 10 in version 0.20 to 100 in 0.22.\n",
      "  \"10 in version 0.20 to 100 in 0.22.\", FutureWarning)\n",
      "/Volumes/lin/MachineLearning/env/lib/python3.7/site-packages/sklearn/ensemble/forest.py:245: FutureWarning: The default value of n_estimators will change from 10 in version 0.20 to 100 in 0.22.\n",
      "  \"10 in version 0.20 to 100 in 0.22.\", FutureWarning)\n",
      "/Volumes/lin/MachineLearning/env/lib/python3.7/site-packages/sklearn/ensemble/forest.py:245: FutureWarning: The default value of n_estimators will change from 10 in version 0.20 to 100 in 0.22.\n",
      "  \"10 in version 0.20 to 100 in 0.22.\", FutureWarning)\n"
     ]
    }
   ],
   "source": [
    "forest_clf_best = grid_searchF.best_estimator_\n",
    "y_probas_forestbest = cross_val_predict(forest_clf ,x_data ,y_netflix\n",
    "                                    ,cv=3 ,method='predict_proba')"
   ]
  },
  {
   "cell_type": "code",
   "execution_count": 41,
   "metadata": {},
   "outputs": [
    {
     "name": "stderr",
     "output_type": "stream",
     "text": [
      "/Volumes/lin/MachineLearning/env/lib/python3.7/site-packages/sklearn/ensemble/forest.py:245: FutureWarning: The default value of n_estimators will change from 10 in version 0.20 to 100 in 0.22.\n",
      "  \"10 in version 0.20 to 100 in 0.22.\", FutureWarning)\n",
      "/Volumes/lin/MachineLearning/env/lib/python3.7/site-packages/sklearn/ensemble/forest.py:245: FutureWarning: The default value of n_estimators will change from 10 in version 0.20 to 100 in 0.22.\n",
      "  \"10 in version 0.20 to 100 in 0.22.\", FutureWarning)\n",
      "/Volumes/lin/MachineLearning/env/lib/python3.7/site-packages/sklearn/ensemble/forest.py:245: FutureWarning: The default value of n_estimators will change from 10 in version 0.20 to 100 in 0.22.\n",
      "  \"10 in version 0.20 to 100 in 0.22.\", FutureWarning)\n"
     ]
    }
   ],
   "source": [
    "y_netflix_predictF = cross_val_predict(forest_clf ,x_data ,y_netflix ,cv=3)"
   ]
  },
  {
   "cell_type": "code",
   "execution_count": 230,
   "metadata": {},
   "outputs": [],
   "source": [
    "y_netflix_predictFbest = cross_val_predict(forest_clf_best ,x_data ,y_netflix ,cv=3)"
   ]
  },
  {
   "cell_type": "code",
   "execution_count": 42,
   "metadata": {},
   "outputs": [
    {
     "data": {
      "text/plain": [
       "array([[4236,  260],\n",
       "       [ 688,  101]])"
      ]
     },
     "execution_count": 42,
     "metadata": {},
     "output_type": "execute_result"
    }
   ],
   "source": [
    "confusion_matrix(y_netflix ,y_netflix_predictF)"
   ]
  },
  {
   "cell_type": "code",
   "execution_count": 228,
   "metadata": {},
   "outputs": [
    {
     "data": {
      "text/plain": [
       "array([[3994,  506],\n",
       "       [ 585,  200]])"
      ]
     },
     "execution_count": 228,
     "metadata": {},
     "output_type": "execute_result"
    }
   ],
   "source": [
    "confusion_matrix(y_netflix ,y_netflix_predictFbest)"
   ]
  },
  {
   "cell_type": "code",
   "execution_count": 43,
   "metadata": {},
   "outputs": [
    {
     "data": {
      "text/plain": [
       "0.27977839335180055"
      ]
     },
     "execution_count": 43,
     "metadata": {},
     "output_type": "execute_result"
    }
   ],
   "source": [
    "precision_score(y_netflix ,y_netflix_predictF)"
   ]
  },
  {
   "cell_type": "code",
   "execution_count": 44,
   "metadata": {
    "collapsed": true
   },
   "outputs": [
    {
     "ename": "NameError",
     "evalue": "name 'y_netflix_predictFbest' is not defined",
     "output_type": "error",
     "traceback": [
      "\u001b[0;31m---------------------------------------------------------------------------\u001b[0m",
      "\u001b[0;31mNameError\u001b[0m                                 Traceback (most recent call last)",
      "\u001b[0;32m<ipython-input-44-38e419b65fe0>\u001b[0m in \u001b[0;36m<module>\u001b[0;34m\u001b[0m\n\u001b[0;32m----> 1\u001b[0;31m \u001b[0mprecision_score\u001b[0m\u001b[0;34m(\u001b[0m\u001b[0my_netflix\u001b[0m \u001b[0;34m,\u001b[0m\u001b[0my_netflix_predictFbest\u001b[0m\u001b[0;34m)\u001b[0m\u001b[0;34m\u001b[0m\u001b[0;34m\u001b[0m\u001b[0m\n\u001b[0m",
      "\u001b[0;31mNameError\u001b[0m: name 'y_netflix_predictFbest' is not defined"
     ]
    }
   ],
   "source": [
    "precision_score(y_netflix ,y_netflix_predictFbest)"
   ]
  },
  {
   "cell_type": "code",
   "execution_count": 45,
   "metadata": {},
   "outputs": [
    {
     "data": {
      "text/plain": [
       "0.12801013941698353"
      ]
     },
     "execution_count": 45,
     "metadata": {},
     "output_type": "execute_result"
    }
   ],
   "source": [
    "recall_score(y_netflix ,y_netflix_predictF)"
   ]
  },
  {
   "cell_type": "code",
   "execution_count": 232,
   "metadata": {},
   "outputs": [
    {
     "data": {
      "text/plain": [
       "0.25477707006369427"
      ]
     },
     "execution_count": 232,
     "metadata": {},
     "output_type": "execute_result"
    }
   ],
   "source": [
    "recall_score(y_netflix ,y_netflix_predictFbest)"
   ]
  },
  {
   "cell_type": "code",
   "execution_count": 46,
   "metadata": {},
   "outputs": [
    {
     "data": {
      "text/plain": [
       "0.1756521739130435"
      ]
     },
     "execution_count": 46,
     "metadata": {},
     "output_type": "execute_result"
    }
   ],
   "source": [
    "f1_score(y_netflix ,y_netflix_predictF)"
   ]
  },
  {
   "cell_type": "code",
   "execution_count": 233,
   "metadata": {},
   "outputs": [
    {
     "data": {
      "text/plain": [
       "0.26827632461435275"
      ]
     },
     "execution_count": 233,
     "metadata": {},
     "output_type": "execute_result"
    }
   ],
   "source": [
    "f1_score(y_netflix ,y_netflix_predictFbest)"
   ]
  },
  {
   "cell_type": "code",
   "execution_count": null,
   "metadata": {},
   "outputs": [],
   "source": []
  },
  {
   "cell_type": "code",
   "execution_count": 47,
   "metadata": {
    "scrolled": true
   },
   "outputs": [],
   "source": [
    "y_scores_forest = y_probas_forest[:,1]\n",
    "fpr_forest ,tpr_forest ,thresholds_forest = roc_curve(y_netflix ,y_scores_forest)"
   ]
  },
  {
   "cell_type": "code",
   "execution_count": 241,
   "metadata": {},
   "outputs": [],
   "source": [
    "y_scores_forestB = y_probas_forestbest[:,1]\n",
    "fpr_forestB ,tpr_forestB ,thresholds_forestB = roc_curve(y_netflix ,y_netflix_predictFbest)"
   ]
  },
  {
   "cell_type": "code",
   "execution_count": 48,
   "metadata": {},
   "outputs": [
    {
     "data": {
      "image/png": "[encoded data removed]",
      "text/plain": [
       "<Figure size 432x288 with 1 Axes>"
      ]
     },
     "metadata": {
      "needs_background": "light"
     },
     "output_type": "display_data"
    }
   ],
   "source": [
    "precisionsF ,recallsF ,thresholdsF = precision_recall_curve(y_netflix ,y_scores_forest)\n",
    "plot_precision_recall_v_threshold(precisionsF ,recallsF ,thresholdsF)\n",
    "plt.show()"
   ]
  },
  {
   "cell_type": "code",
   "execution_count": 238,
   "metadata": {},
   "outputs": [
    {
     "data": {
      "image/png": "[encoded data removed]",
      "text/plain": [
       "<Figure size 432x288 with 1 Axes>"
      ]
     },
     "metadata": {
      "needs_background": "light"
     },
     "output_type": "display_data"
    }
   ],
   "source": [
    "precisionsFB ,recallsFB ,thresholdsFB = precision_recall_curve(y_netflix ,y_netflix_predictFbest)\n",
    "plot_precision_recall_v_threshold(precisionsFB ,recallsFB ,thresholdsFB)\n",
    "plt.show()"
   ]
  },
  {
   "cell_type": "code",
   "execution_count": 49,
   "metadata": {},
   "outputs": [],
   "source": [
    "def plot_precision_recall(precision ,recall ,label=None):\n",
    "    plt.plot(recall ,precision ,linewidth=2 ,label=label)\n",
    "    plt.axis([0 ,1 ,0 ,1])\n",
    "    plt.xlabel('Recall')\n",
    "    plt.ylabel('Precision')"
   ]
  },
  {
   "cell_type": "code",
   "execution_count": 50,
   "metadata": {},
   "outputs": [
    {
     "data": {
      "image/png": "[encoded data removed]",
      "text/plain": [
       "<Figure size 432x288 with 1 Axes>"
      ]
     },
     "metadata": {
      "needs_background": "light"
     },
     "output_type": "display_data"
    }
   ],
   "source": [
    "plot_precision_recall(precisionsF ,recallsF)\n",
    "plt.show()"
   ]
  },
  {
   "cell_type": "code",
   "execution_count": 239,
   "metadata": {},
   "outputs": [
    {
     "data": {
      "image/png": "[encoded data removed]",
      "text/plain": [
       "<Figure size 432x288 with 1 Axes>"
      ]
     },
     "metadata": {
      "needs_background": "light"
     },
     "output_type": "display_data"
    }
   ],
   "source": [
    "plot_precision_recall(precisionsFB ,recallsFB)\n",
    "plt.show()"
   ]
  },
  {
   "cell_type": "code",
   "execution_count": 51,
   "metadata": {},
   "outputs": [
    {
     "data": {
      "image/png": "[encoded data removed]",
      "text/plain": [
       "<Figure size 432x288 with 1 Axes>"
      ]
     },
     "metadata": {
      "needs_background": "light"
     },
     "output_type": "display_data"
    }
   ],
   "source": [
    "plt.plot(fpr ,tpr ,'b:' ,label='SGD')\n",
    "plot_roc_curve(fpr_forest ,tpr_forest ,'Random Forest')\n",
    "plt.legend(loc='lower right')\n",
    "plt.show()"
   ]
  },
  {
   "cell_type": "code",
   "execution_count": 245,
   "metadata": {},
   "outputs": [
    {
     "data": {
      "image/png": "[encoded data removed]",
      "text/plain": [
       "<Figure size 432x288 with 1 Axes>"
      ]
     },
     "metadata": {
      "needs_background": "light"
     },
     "output_type": "display_data"
    }
   ],
   "source": [
    "plot_roc_curve(fpr_forestB ,tpr_forestB ,'Random Forest')\n",
    "plt.legend(loc='lower right')\n",
    "plt.show()"
   ]
  },
  {
   "cell_type": "code",
   "execution_count": 198,
   "metadata": {},
   "outputs": [
    {
     "data": {
      "text/plain": [
       "0.5230769230769231"
      ]
     },
     "execution_count": 198,
     "metadata": {},
     "output_type": "execute_result"
    }
   ],
   "source": [
    "y_scores_pt7 = (y_netflix_predictF > .02)\n",
    "precision_score(y_netflix ,y_scores_pt7)"
   ]
  },
  {
   "cell_type": "code",
   "execution_count": 132,
   "metadata": {},
   "outputs": [
    {
     "data": {
      "text/plain": [
       "(5285, 2)"
      ]
     },
     "execution_count": 132,
     "metadata": {},
     "output_type": "execute_result"
    }
   ],
   "source": [
    "plt.plot(precision ,recall ,'g:' ,label='SGD')\n",
    "plot_roc_curve(fpr_forest ,tpr_forest ,'Random Forest')\n",
    "plt.legend(loc='lower right')\n",
    "plt.show()"
   ]
  },
  {
   "cell_type": "code",
   "execution_count": 52,
   "metadata": {},
   "outputs": [],
   "source": [
    "from sklearn.model_selection import GridSearchCV"
   ]
  },
  {
   "cell_type": "code",
   "execution_count": 58,
   "metadata": {},
   "outputs": [
    {
     "name": "stdout",
     "output_type": "stream",
     "text": [
      "Current Time = 21:15:03\n",
      "Current Time = 21:15:20\n"
     ]
    }
   ],
   "source": [
    "Timenow()\n",
    "param_grid = [\n",
    "  #  {'n_estimators': [50 ,100], 'max_features': [635 ,636]},\n",
    "    {'bootstrap': [False], 'n_estimators': [100,200], 'max_features': [1 ,2] ,'random_state':[42]},\n",
    "]\n",
    "#forest_reg = RandomForestRegressor()\n",
    "grid_searchF = GridSearchCV(forest_clf, param_grid, cv=4,\n",
    "                          scoring = 'precision',\n",
    "                          return_train_score = True)\n",
    "grid_searchF.fit(x_data, y_netflix)\n",
    "Timenow()"
   ]
  },
  {
   "cell_type": "code",
   "execution_count": 56,
   "metadata": {},
   "outputs": [
    {
     "data": {
      "text/plain": [
       "{'bootstrap': False, 'max_features': 3, 'n_estimators': 77, 'random_state': 42}"
      ]
     },
     "execution_count": 56,
     "metadata": {},
     "output_type": "execute_result"
    }
   ],
   "source": [
    "grid_searchF.best_params_"
   ]
  },
  {
   "cell_type": "code",
   "execution_count": null,
   "metadata": {},
   "outputs": [],
   "source": [
    "grid_searchF.best_estimator_"
   ]
  },
  {
   "cell_type": "code",
   "execution_count": 3,
   "metadata": {},
   "outputs": [
    {
     "ename": "NameError",
     "evalue": "name 'grid_searchF' is not defined",
     "output_type": "error",
     "traceback": [
      "\u001b[0;31m---------------------------------------------------------------------------\u001b[0m",
      "\u001b[0;31mNameError\u001b[0m                                 Traceback (most recent call last)",
      "\u001b[0;32m<ipython-input-3-b83441009992>\u001b[0m in \u001b[0;36m<module>\u001b[0;34m\u001b[0m\n\u001b[1;32m      1\u001b[0m \u001b[0;31m#CONCLUSION: very few of the features are meaningful.\u001b[0m\u001b[0;34m\u001b[0m\u001b[0;34m\u001b[0m\u001b[0;34m\u001b[0m\u001b[0m\n\u001b[1;32m      2\u001b[0m \u001b[0;31m#Dataset features are insignificant. Low performance measure scores.\u001b[0m\u001b[0;34m\u001b[0m\u001b[0;34m\u001b[0m\u001b[0;34m\u001b[0m\u001b[0m\n\u001b[0;32m----> 3\u001b[0;31m \u001b[0mfeature_importances\u001b[0m \u001b[0;34m=\u001b[0m \u001b[0mgrid_searchF\u001b[0m\u001b[0;34m.\u001b[0m\u001b[0mbest_estimator_\u001b[0m\u001b[0;34m.\u001b[0m\u001b[0mfeature_importances_\u001b[0m\u001b[0;34m\u001b[0m\u001b[0;34m\u001b[0m\u001b[0m\n\u001b[0m\u001b[1;32m      4\u001b[0m \u001b[0mcat_encoder\u001b[0m \u001b[0;34m=\u001b[0m \u001b[0mfull_pipeline\u001b[0m\u001b[0;34m.\u001b[0m\u001b[0mnamed_transformers_\u001b[0m\u001b[0;34m[\u001b[0m\u001b[0;34m'cat'\u001b[0m\u001b[0;34m]\u001b[0m\u001b[0;34m\u001b[0m\u001b[0;34m\u001b[0m\u001b[0m\n\u001b[1;32m      5\u001b[0m \u001b[0mcat_encoder_cols\u001b[0m \u001b[0;34m=\u001b[0m \u001b[0mlist\u001b[0m\u001b[0;34m(\u001b[0m\u001b[0mcat_encoder\u001b[0m\u001b[0;34m.\u001b[0m\u001b[0mcategories_\u001b[0m\u001b[0;34m[\u001b[0m\u001b[0;36m0\u001b[0m\u001b[0;34m]\u001b[0m\u001b[0;34m)\u001b[0m\u001b[0;34m\u001b[0m\u001b[0;34m\u001b[0m\u001b[0m\n",
      "\u001b[0;31mNameError\u001b[0m: name 'grid_searchF' is not defined"
     ]
    }
   ],
   "source": [
    "#CONCLUSION: very few of the features are meaningful. \n",
    "#Dataset features are insignificant. Low performance measure scores.\n",
    "feature_importances = grid_searchF.best_estimator_.feature_importances_\n",
    "cat_encoder = full_pipeline.named_transformers_['cat']\n",
    "cat_encoder_cols = list(cat_encoder.categories_[0])\n",
    "attributes = cat_encoder_cols + nums \n",
    "sorted(zip(feature_importances ,attributes) ,reverse=True)"
   ]
  },
  {
   "cell_type": "code",
   "execution_count": null,
   "metadata": {},
   "outputs": [],
   "source": []
  },
  {
   "cell_type": "code",
   "execution_count": null,
   "metadata": {},
   "outputs": [],
   "source": []
  },
  {
   "cell_type": "code",
   "execution_count": null,
   "metadata": {},
   "outputs": [],
   "source": []
  },
  {
   "cell_type": "code",
   "execution_count": null,
   "metadata": {},
   "outputs": [],
   "source": []
  },
  {
   "cell_type": "code",
   "execution_count": null,
   "metadata": {},
   "outputs": [],
   "source": []
  },
  {
   "cell_type": "code",
   "execution_count": null,
   "metadata": {},
   "outputs": [],
   "source": []
  },
  {
   "cell_type": "code",
   "execution_count": null,
   "metadata": {},
   "outputs": [],
   "source": []
  },
  {
   "cell_type": "code",
   "execution_count": null,
   "metadata": {},
   "outputs": [],
   "source": []
  },
  {
   "cell_type": "code",
   "execution_count": null,
   "metadata": {},
   "outputs": [],
   "source": [
    "'''split = StratifiedShuffleSplit(n_splits=1, test_size=0.2, random_state=42)\n",
    "for train_index, test_index in split.split(combin\n",
    "                                           ed, combined[['titleType']]):                               \n",
    "    strat_train_set = data_sorted.iloc[train_index]\n",
    "    strat_test_set = data_sorted.iloc[test_index]'''"
   ]
  },
  {
   "cell_type": "code",
   "execution_count": null,
   "metadata": {},
   "outputs": [],
   "source": [
    "'''base_pipeline = ColumnTransformer([\n",
    "    ('genresB' ,Basics_genre_expand() ,basics_cols)\n",
    "    ,('ratingsB' ,Ratings_expand() ,ratings_cols)\n",
    "    ,('regionsB' ,Regions_expand() ,akas_columns)\n",
    "])\n",
    "\n",
    "combined = base_pipeline.fit_transform(combined)\n",
    "Timenow()'''"
   ]
  }
 ],
 "metadata": {
  "kernelspec": {
   "display_name": "Python 3",
   "language": "python",
   "name": "python3"
  },
  "language_info": {
   "codemirror_mode": {
    "name": "ipython",
    "version": 3
   },
   "file_extension": ".py",
   "mimetype": "text/x-python",
   "name": "python",
   "nbconvert_exporter": "python",
   "pygments_lexer": "ipython3",
   "version": "3.7.4"
  }
 },
 "nbformat": 4,
 "nbformat_minor": 2
}
